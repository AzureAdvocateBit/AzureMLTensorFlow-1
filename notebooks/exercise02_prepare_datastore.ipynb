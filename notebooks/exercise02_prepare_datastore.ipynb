{
 "cells": [
  {
   "cell_type": "markdown",
   "metadata": {},
   "source": [
    "# Exercise 02 : Prepare Datastore\n",
    "\n",
    "Here we prepare ```Datastore``` for storing and sharing our dataset.\n",
    "\n",
    "Before running the following script, **you must create your Storage Account (https://docs.microsoft.com/en-us/azure/storage/common/storage-quickstart-create-account?tabs=azure-portal)** using [Azure Portal](https://portal.azure.com/), create container in blob, and retrieve your access key.\n",
    "\n",
    "*back to [index](/Readme.md)*"
   ]
  },
  {
   "cell_type": "markdown",
   "metadata": {},
   "source": [
    "## Get config setting\n",
    "\n",
    "Read your config settings. See \"[Exercise01 : Prepare Config Settings](/notebooks/exercise01_prepare_config.ipynb)\"."
   ]
  },
  {
   "cell_type": "code",
   "execution_count": 2,
   "metadata": {},
   "outputs": [
    {
     "name": "stdout",
     "output_type": "stream",
     "text": [
      "Found the config file in: /data/home/username/Tutorial/aml_config/config.json\n"
     ]
    }
   ],
   "source": [
    "from azureml.core import Workspace\n",
    "import azureml.core\n",
    "\n",
    "ws = Workspace.from_config()"
   ]
  },
  {
   "cell_type": "markdown",
   "metadata": {},
   "source": [
    "## Use default datastore\n",
    "\n",
    "The default datastore is attached in your AML workspace.    \n",
    "The data is stored in Azure File Share on *{your workspace name}{arbitary numbers}*."
   ]
  },
  {
   "cell_type": "code",
   "execution_count": 3,
   "metadata": {},
   "outputs": [
    {
     "data": {
      "text/plain": [
       "$AZUREML_DATAREFERENCE_b3dfc6a825a1460094d67cf6646f3524"
      ]
     },
     "execution_count": 3,
     "metadata": {},
     "output_type": "execute_result"
    }
   ],
   "source": [
    "# Get AML default datastore\n",
    "ds = ws.get_default_datastore()\n",
    "\n",
    "# Upload local \"data\" folder (incl. files) as \"tfdata\" folder\n",
    "ds.upload(\n",
    "    src_dir='./data',\n",
    "    target_path='tfdata',\n",
    "    overwrite=True)"
   ]
  },
  {
   "cell_type": "markdown",
   "metadata": {},
   "source": [
    "## Use your own blob storage\n",
    "\n",
    "You can also use your own blob storage. Set your previously generated storage storage account name, storage account key, and container name and update the information in the cell below. 
    Ensure that you have also uploaded the data folder and contents to the DSVM within same area as your notebooks"
   ]
  },
  {
   "cell_type": "code",
   "execution_count": 3,
   "metadata": {},
   "outputs": [
    {
     "data": {
      "text/plain": [
       "$AZUREML_DATAREFERENCE_dc17ffd710354be29693d84abb866d8f"
      ]
     },
     "execution_count": 3,
     "metadata": {},
     "output_type": "execute_result"
    }
   ],
   "source": [
    "from azureml.core import Datastore\n",
    "\n",
    "ds = Datastore.register_azure_blob_container(\n",
    "    ws,\n",
    "    datastore_name='Blob_Name',\n",
    "    account_name='Account_name',\n",
    "    account_key='Account_Key',\n",
    "    container_name='Container_Name',\n",
    "    overwrite=True)\n",
    "\n",
    "# Upload local \"data\" folder (incl. files) as \"tfdata\" folder\n",
    "ds.upload(\n",
    "    src_dir='./data',\n",
    "    target_path='tfdata',\n",
    "    overwrite=True)"
   ]
  },
  {
   "cell_type": "markdown",
   "metadata": {},
   "source": [
    "Get the generated Datastore, and upload again."
   ]
  },
  {
   "cell_type": "code",
   "execution_count": 5,
   "metadata": {},
   "outputs": [
    {
     "data": {
      "text/plain": [
       "$AZUREML_DATAREFERENCE_b6854bcc152f44229c4e478b6dde1e29"
      ]
     },
     "execution_count": 5,
     "metadata": {},
     "output_type": "execute_result"
    }
   ],
   "source": [
    "# Get your own registered datastore\n",
    "ds = Datastore.get(ws, datastore_name='myblob01')\n",
    "\n",
    "# Upload local \"data\" folder (incl. files) as \"tfdata\" folder\n",
    "ds.upload(\n",
    "    src_dir='./data',\n",
    "    target_path='tfdata',\n",
    "    overwrite=True)"
   ]
  },
  {
   "cell_type": "code",
   "execution_count": null,
   "metadata": {},
   "outputs": [],
   "source": []
  }
 ],
 "metadata": {
  "kernelspec": {
   "display_name": "Python 3.6 - AzureML",
   "language": "python",
   "name": "python3-azureml"
  },
  "language_info": {
   "codemirror_mode": {
    "name": "ipython",
    "version": 3
   },
   "file_extension": ".py",
   "mimetype": "text/x-python",
   "name": "python",
   "nbconvert_exporter": "python",
   "pygments_lexer": "ipython3",
   "version": "3.6.6"
  }
 },
 "nbformat": 4,
 "nbformat_minor": 2
}
